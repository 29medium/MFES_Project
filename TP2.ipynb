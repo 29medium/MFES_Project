{
  "nbformat": 4,
  "nbformat_minor": 0,
  "metadata": {
    "colab": {
      "name": "TP2.ipynb",
      "provenance": [],
      "collapsed_sections": []
    },
    "kernelspec": {
      "name": "python3",
      "display_name": "Python 3"
    },
    "language_info": {
      "name": "python"
    }
  },
  "cells": [
    {
      "cell_type": "markdown",
      "metadata": {
        "id": "pqI5TzYYMPZX"
      },
      "source": [
        "# **Métodos Formais em Engenharia de Software - SMT solving**"
      ]
    },
    {
      "cell_type": "markdown",
      "metadata": {
        "id": "YXPYSBNUMTwK"
      },
      "source": [
        "**Nome:** Paulo Silva Sousa\n",
        "\n",
        "**Número:** PG47556\n",
        "\n",
        "**Curso:** Mestrado em Engenharia Informática"
      ]
    },
    {
      "cell_type": "markdown",
      "metadata": {
        "id": "6IufUenIMXb1"
      },
      "source": [
        "<br>\n",
        "\n",
        "# **Exercício 1 - Futoshiki Puzzle**"
      ]
    },
    {
      "cell_type": "markdown",
      "metadata": {
        "id": "eZHBdi7BM0Sl"
      },
      "source": [
        "Futoshiki é um puzzle lógico japonês jogado num tabuleiro N×N , onde são assinaladas restrições de desigualdade entre entre algumas posições contiguas do tabuleiro.\n",
        "\n",
        "O objetivo é colocar os números 1..N de forma a que cada número não apareça repetido em cada linha nem em cada coluna do tabuleiro, e que as relações de desigualdade assinaladas sejam respeitadas. \n",
        "\n",
        "Alguns números podem estar fixos no tabuleiro inicial. Pode ver mais informações\n",
        "sobre o puzzle em http://en.wikipedia.org/wiki/Futoshiki e http://www.brainbashers.com/futoshiki.asp\n",
        "\n",
        "Desenvolva um programa em Phyton para resolver este jogo como auxílio de um SMT solver.\n",
        "\n",
        "• Input: a configuração do tabuleiro inicial deverá ser fornecida num ficheiro de texto, em formato que entendam adquado para o descrever. Como alternativa pode receber o texto do tabuleiro diretamente numa string.\n",
        "\n",
        "• Output: a solução do puzzle deverá ser impressa no ecrã."
      ]
    },
    {
      "cell_type": "markdown",
      "metadata": {
        "id": "qukQhoUMNrFP"
      },
      "source": [
        "Como input do nosso programa utilizamos um ficheiro de texto divido em 4 partes.\n",
        "\n",
        "Na primeira linha é apresentado o tamanho N do tabuleiro.\n",
        "\n",
        "Nas próximas N linhas são apresentados os valores das casas do tabuleiro, em que 0 é apresentado se esta estiver vazia.\n",
        "\n",
        "Nas seguintes N linhas são apresentadas as restrições horizontais, sendo apresentado o valor 0 se não houver restrições, 1 se for maior e -1 se for menor.\n",
        "\n",
        "Por último, nas restantes N-1 linhas são apresentadas as restrições verticais com os mesmos valores que as horizontais.\n",
        "\n",
        "De seguida temos um exemplo de um tabuleiro de tamanho 4."
      ]
    },
    {
      "cell_type": "code",
      "metadata": {
        "id": "gji_he4Njsjp"
      },
      "source": [
        "4\n",
        "0 0 0 3\n",
        "2 0 0 0\n",
        "0 0 0 0\n",
        "0 0 0 0\n",
        "0 0 0\n",
        "0 1 0\n",
        "0 0 0\n",
        "0 -1 0\n",
        "0 0 0 0\n",
        "1 0 0 0\n",
        "0 0 0 -1"
      ],
      "execution_count": null,
      "outputs": []
    },
    {
      "cell_type": "markdown",
      "metadata": {
        "id": "5cBtrZMOO0Do"
      },
      "source": [
        "Para instalar o solver, utilizamos o pip."
      ]
    },
    {
      "cell_type": "code",
      "metadata": {
        "colab": {
          "base_uri": "https://localhost:8080/"
        },
        "id": "qOG8rDWRuKDo",
        "outputId": "a68fb9e8-e0b9-453c-bca7-fee99cab8bd8"
      },
      "source": [
        "!pip install z3-solver"
      ],
      "execution_count": null,
      "outputs": [
        {
          "output_type": "stream",
          "name": "stdout",
          "text": [
            "Collecting z3-solver\n",
            "  Downloading z3_solver-4.8.12.0-py2.py3-none-manylinux1_x86_64.whl (33.0 MB)\n",
            "\u001b[K     |████████████████████████████████| 33.0 MB 18 kB/s \n",
            "\u001b[?25hInstalling collected packages: z3-solver\n",
            "Successfully installed z3-solver-4.8.12.0\n"
          ]
        }
      ]
    },
    {
      "cell_type": "markdown",
      "metadata": {
        "id": "3YRCnDEKO-bh"
      },
      "source": [
        "De seguida temos o programa em Python para resolver o Futoshiki Puzzle com o auxílio de um SMT solver."
      ]
    },
    {
      "cell_type": "code",
      "metadata": {
        "colab": {
          "base_uri": "https://localhost:8080/"
        },
        "id": "yokEoWPWk3Mu",
        "outputId": "87c5cd30-e7f8-4b16-cedf-6b1fd8835958"
      },
      "source": [
        "from z3 import *\n",
        "\n",
        "# Parser\n",
        "\n",
        "f = open(\"table.txt\")\n",
        "\n",
        "n = int(f.readline())\n",
        "\n",
        "instance = []\n",
        "restrictions_hor = []\n",
        "restrictions_ver = []\n",
        "\n",
        "for i in range(n):\n",
        "  line = f.readline()\n",
        "  aux = line.strip().split(\" \")\n",
        "  aux2 = [int(x) for x in aux]\n",
        "  instance.append(aux2)\n",
        "\n",
        "for i in range(n):\n",
        "  line = f.readline()\n",
        "  aux = line.strip().split(\" \")\n",
        "  aux2 = [int(x) for x in aux]\n",
        "  restrictions_hor.append(aux2)\n",
        "\n",
        "for i in range(n-1):\n",
        "  line = f.readline()\n",
        "  aux = line.strip().split(\" \")\n",
        "  aux2 = [int(x) for x in aux]\n",
        "  restrictions_ver.append(aux2)\n",
        "\n",
        "# Solver\n",
        "\n",
        "s = Solver()\n",
        "X = []\n",
        "\n",
        "# Celulas são inteiros\n",
        "for i in range(n):\n",
        "  line = []\n",
        "  for j in range(n):\n",
        "    line.append(Int(\"x_%s_%s\" % (i+1, j+1)))\n",
        "  X.append(line)\n",
        "\n",
        "# Celulas entre 1 e n\n",
        "for i in range(n):\n",
        "  for j in range(n):\n",
        "    s.add(And(X[i][j] <= n),X[i][j] >= 1)\n",
        "\n",
        "# Linhas sem celulas iguais\n",
        "for i in range(n):\n",
        "    s.add(Distinct(X[i]))\n",
        "\n",
        "# Colunas sem celulas iguais\n",
        "for j in range(n):\n",
        "  s.add(Distinct( [ X[i][j] for i in range(n)] ))\n",
        "\n",
        "# Restrições horizontais\n",
        "for i in range(n):\n",
        "  for j in range(n-1):\n",
        "    if restrictions_hor[i][j] == 1:\n",
        "      s.add(X[i][j] > X[i][j+1])\n",
        "    elif restrictions_hor[i][j] == -1:\n",
        "      s.add(X[i][j] < X[i][j+1])\n",
        "\n",
        "# Restrições verticais\n",
        "for i in range(n-1):\n",
        "  for j in range(n):\n",
        "    if restrictions_ver[i][j] == 1:\n",
        "      s.add(X[i][j] > X[i+1][j])\n",
        "    elif restrictions_ver[i][j] == -1:\n",
        "      s.add(X[i][j] < X[i+1][j])\n",
        "\n",
        "for i in range(n):\n",
        "  for j in range(n):\n",
        "    s.add(If(instance[i][j] == 0,True,X[i][j] == instance[i][j]))\n",
        "\n",
        "if s.check() == sat:\n",
        "    m = s.model()\n",
        "    r = [ [ m.evaluate(X[i][j]) for j in range(n) ]\n",
        "          for i in range(n) ]\n",
        "    print_matrix(r)\n",
        "else:\n",
        "    print(\"failed to solve\")"
      ],
      "execution_count": null,
      "outputs": [
        {
          "output_type": "stream",
          "name": "stdout",
          "text": [
            "[[4, 2, 1, 3], [2, 4, 3, 1], [1, 3, 4, 2], [3, 1, 2, 4]]\n"
          ]
        }
      ]
    }
  ]
}