{
  "nbformat": 4,
  "nbformat_minor": 0,
  "metadata": {
    "colab": {
      "name": "MFES.ipynb",
      "provenance": [],
      "collapsed_sections": []
    },
    "kernelspec": {
      "name": "python3",
      "display_name": "Python 3"
    },
    "language_info": {
      "name": "python"
    }
  },
  "cells": [
    {
      "cell_type": "markdown",
      "metadata": {
        "id": "BdLRvksKYgwe"
      },
      "source": [
        "# **Métodos Formais em Engenharia de Software - SAT solving**"
      ]
    },
    {
      "cell_type": "markdown",
      "metadata": {
        "id": "Oy9C7U3G7H-E"
      },
      "source": [
        "**Nome:** Paulo Silva Sousa\n",
        "\n",
        "**Número:** PG47556\n",
        "\n",
        "**Curso:** Mestrado em Engenharia Informática"
      ]
    },
    {
      "cell_type": "markdown",
      "metadata": {
        "id": "d4LAVbgo65pI"
      },
      "source": [
        "<br>\n",
        "\n",
        "# **Exercício 1**"
      ]
    },
    {
      "cell_type": "markdown",
      "metadata": {
        "id": "eMXJUXzQVNt5"
      },
      "source": [
        "**Por forma a codificar este puzzle como problema SAT, defina um conjunto adequado\n",
        "de variáveis proposicionais, exprima as regras acima como fórmulas proposicionais, e\n",
        "converta essas fórmulas para CNF.**"
      ]
    },
    {
      "cell_type": "markdown",
      "metadata": {
        "id": "aFvtclHS0mZc"
      },
      "source": [
        "**Proposições:**\n",
        "\n",
        "*1:* Sócio usa bigode\n",
        "\n",
        "*2:* Sócio é casado\n",
        "\n",
        "*3:* Sócio vai ao jogo ao Domingo\n",
        "\n",
        "*4:* Sócio é de Ribeirão\n",
        "\n",
        "*5:* Sócio usa camisola amarela"
      ]
    },
    {
      "cell_type": "markdown",
      "metadata": {
        "id": "P5tclYys1odL"
      },
      "source": [
        "**Fórmulas Proposicionais:**\n",
        "\n",
        "*A:* 1 -> 2\n",
        "\n",
        "*B:* ~ 4 -> 5\n",
        "\n",
        "*C:* 2 -> ~ 3\n",
        "\n",
        "*D:* 3 <-> 4\n",
        "\n",
        "*E:* 1 v ~ 5\n",
        "\n",
        "*F:* 4 -> 1"
      ]
    },
    {
      "cell_type": "markdown",
      "metadata": {
        "id": "4rUHzrIG2qGF"
      },
      "source": [
        "**Fórmulas CNF:**\n",
        "\n",
        "*A:* ~ 1 v 2\n",
        "\n",
        "*B:* 4 v 5\n",
        "\n",
        "*C:* ~ 2 v ~ 3\n",
        "\n",
        "*D:* 3 -> 4 ^ 4 -> 3 <=> (~ 3 v 4) ^ (~ 4 v 3)\n",
        "\n",
        "*E:* 1 v ~ 5\n",
        "\n",
        "*F:* ~ 4 v 1\n",
        "\n",
        "(~ 1 v 2) ^ (4 v 5) ^ (~ 2 v ~ 3) ^ (~ 3 v 4) ^ (~ 4 v 3) ^ (1 v ~ 5) ^ (~ 4 v 1)\n"
      ]
    },
    {
      "cell_type": "markdown",
      "metadata": {
        "id": "7MulAculKKzO"
      },
      "source": [
        "<br>\n",
        "\n",
        "# **Exercício 2**"
      ]
    },
    {
      "cell_type": "markdown",
      "metadata": {
        "id": "2olS0kptLU0i"
      },
      "source": [
        "**Codifique o problema num SAT solver e comprove que o conjunto de regras é consistente.**"
      ]
    },
    {
      "cell_type": "code",
      "metadata": {
        "id": "oy23Wqt0VtGv"
      },
      "source": [
        "# tp1.cnf\n",
        "p cnf 5 7\n",
        "-1 2 0\n",
        "4 5 0\n",
        "-2 -3 0\n",
        "-3 4 0\n",
        "-4 3 0\n",
        "1 -5 0\n",
        "-4 1 0"
      ],
      "execution_count": null,
      "outputs": []
    },
    {
      "cell_type": "code",
      "metadata": {
        "id": "a0ofz4umVi95"
      },
      "source": [
        "minisat tp1.cnf OUT"
      ],
      "execution_count": null,
      "outputs": []
    },
    {
      "cell_type": "code",
      "metadata": {
        "id": "KY0Wme_PKNNW"
      },
      "source": [
        "# OUT\n",
        "SAT\n",
        "1 2 -3 -4 5 0"
      ],
      "execution_count": null,
      "outputs": []
    },
    {
      "cell_type": "markdown",
      "metadata": {
        "id": "ICXfSU_YUxuG"
      },
      "source": [
        "Como o resultado é SATISFIABLE, concluímos que o conjunto de regras é consistente.\n"
      ]
    },
    {
      "cell_type": "markdown",
      "metadata": {
        "id": "ne8TGl9nK4Th"
      },
      "source": [
        "<br>\n",
        "\n",
        "# **Exercício 3**"
      ]
    },
    {
      "cell_type": "markdown",
      "metadata": {
        "id": "5gSdHP8TLhRx"
      },
      "source": [
        "**Use agora o SAT solver para o ajudar a responder às seguintes questões:**"
      ]
    },
    {
      "cell_type": "markdown",
      "metadata": {
        "id": "ecf2L7LD6qFg"
      },
      "source": [
        "<br>\n",
        "\n",
        "**(a)** A afirmação “Quem usa bigode não pode ir ao jogo ao Domingo.” é correta?\n",
        "\n",
        "**Fórmula Proposicional:** 1 -> ~3\n",
        "\n",
        "**Fórmula CNF:** ~1 v ~3"
      ]
    },
    {
      "cell_type": "code",
      "metadata": {
        "id": "b9QvMmEIRTDe"
      },
      "source": [
        "# tp1.cnf\n",
        "p cnf 5 8\n",
        "-1 2 0\n",
        "4 5 0\n",
        "-2 -3 0\n",
        "-3 4 0\n",
        "-4 3 0\n",
        "1 -5 0\n",
        "-4 1 0\n",
        "-1 -3 0"
      ],
      "execution_count": null,
      "outputs": []
    },
    {
      "cell_type": "code",
      "metadata": {
        "id": "p2Fa9LMed_bg"
      },
      "source": [
        "minisat tp1.cnf OUT"
      ],
      "execution_count": null,
      "outputs": []
    },
    {
      "cell_type": "code",
      "metadata": {
        "id": "ViY8feiYRSvv"
      },
      "source": [
        "# OUT\n",
        "SAT\n",
        "1 2 -3 -4 5 0"
      ],
      "execution_count": null,
      "outputs": []
    },
    {
      "cell_type": "markdown",
      "metadata": {
        "id": "SWQo46ZcRTip"
      },
      "source": [
        "Apesar de encontrarmos uma solução que satisfaz a condição, isto apenas nos garante que uma pessoa que usa bigode não pode ir ao jogo ao Domingo.\n",
        "\n",
        "**Negação:** 1 ^ 3\n"
      ]
    },
    {
      "cell_type": "code",
      "metadata": {
        "id": "KfoBdc4oa5Y6"
      },
      "source": [
        "# tp1.cnf\n",
        "p cnf 5 9\n",
        "-1 2 0\n",
        "4 5 0\n",
        "-2 -3 0\n",
        "-3 4 0\n",
        "-4 3 0\n",
        "1 -5 0\n",
        "-4 1 0\n",
        "1 0\n",
        "3 0"
      ],
      "execution_count": null,
      "outputs": []
    },
    {
      "cell_type": "code",
      "metadata": {
        "id": "EzuO1cQGeAZa"
      },
      "source": [
        "minisat tp1.cnf OUT"
      ],
      "execution_count": null,
      "outputs": []
    },
    {
      "cell_type": "code",
      "metadata": {
        "id": "aPeA0OxYbALC"
      },
      "source": [
        "# OUT\n",
        "UNSAT"
      ],
      "execution_count": null,
      "outputs": []
    },
    {
      "cell_type": "markdown",
      "metadata": {
        "id": "T-jYuaVibAkP"
      },
      "source": [
        "Como a negação da condição é UNSATISFIABLE, concluimos que a afirmação para todos os casos é verdadeira."
      ]
    },
    {
      "cell_type": "markdown",
      "metadata": {
        "id": "mTXZPvouQXBe"
      },
      "source": [
        "<br>\n",
        "\n",
        "**(b)** Pode um membro de camisola amarela ser casado?\n",
        "\n",
        "**Fórmulas CNF:** 5 ^ 2\n"
      ]
    },
    {
      "cell_type": "code",
      "metadata": {
        "id": "ErHS-eWlSCWt"
      },
      "source": [
        "# tp1.cnf\n",
        "p cnf 5 9\n",
        "-1 2 0\n",
        "4 5 0\n",
        "-2 -3 0\n",
        "-3 4 0\n",
        "-4 3 0\n",
        "1 -5 0\n",
        "-4 1 0\n",
        "5 0\n",
        "2 0"
      ],
      "execution_count": null,
      "outputs": []
    },
    {
      "cell_type": "code",
      "metadata": {
        "id": "2tlb2-dmeBAz"
      },
      "source": [
        "minisat tp1.cnf OUT"
      ],
      "execution_count": null,
      "outputs": []
    },
    {
      "cell_type": "code",
      "metadata": {
        "id": "Y00ZFd5USCJi"
      },
      "source": [
        "# OUT\n",
        "SAT\n",
        "1 2 -3 -4 5 0"
      ],
      "execution_count": null,
      "outputs": []
    },
    {
      "cell_type": "markdown",
      "metadata": {
        "id": "Xw0tIkqpSCsD"
      },
      "source": [
        "Como foi encontrada a solução que satisfaz a condição, concluímos que a afirmação é verdadeira."
      ]
    },
    {
      "cell_type": "markdown",
      "metadata": {
        "id": "MKWMK2jWQqsz"
      },
      "source": [
        "<br>\n",
        "\n",
        "**(c)** A afirmação “Afinal o clube não pode ter sócios Ribeironenses.” é correta?\n",
        "\n",
        "**Fórmula CNF:** ~4"
      ]
    },
    {
      "cell_type": "code",
      "metadata": {
        "id": "DTVVSYjhSdfP"
      },
      "source": [
        "# tp1.cnf\n",
        "p cnf 5 8\n",
        "-1 2 0\n",
        "4 5 0\n",
        "-2 -3 0\n",
        "-3 4 0\n",
        "-4 3 0\n",
        "1 -5 0\n",
        "-4 1 0\n",
        "-4 0"
      ],
      "execution_count": null,
      "outputs": []
    },
    {
      "cell_type": "code",
      "metadata": {
        "id": "bCWpkgQ_eBmf"
      },
      "source": [
        "minisat tp1.cnf OUT"
      ],
      "execution_count": null,
      "outputs": []
    },
    {
      "cell_type": "code",
      "metadata": {
        "id": "qZxyPoQ_SdPU"
      },
      "source": [
        "# OUT\n",
        "SAT\n",
        "1 2 -3 -4 5 0"
      ],
      "execution_count": null,
      "outputs": []
    },
    {
      "cell_type": "markdown",
      "metadata": {
        "id": "uvjY5Rx1bv3F"
      },
      "source": [
        "Apesar de encontrarmos uma solução que satisfaz a condição, isto apenas nos garante que o clube não pode ter um sócio Ribeironense.\n",
        "\n",
        "**Negação:** 4\n"
      ]
    },
    {
      "cell_type": "code",
      "metadata": {
        "id": "bgnOfUcTb_jq"
      },
      "source": [
        "# tp1.cnf\n",
        "p cnf 5 8\n",
        "-1 2 0\n",
        "4 5 0\n",
        "-2 -3 0\n",
        "-3 4 0\n",
        "-4 3 0\n",
        "1 -5 0\n",
        "-4 1 0\n",
        "4 0"
      ],
      "execution_count": null,
      "outputs": []
    },
    {
      "cell_type": "code",
      "metadata": {
        "id": "cV_j9Vq7eCsZ"
      },
      "source": [
        "minisat tp1.cnf OUT"
      ],
      "execution_count": null,
      "outputs": []
    },
    {
      "cell_type": "code",
      "metadata": {
        "id": "XNoAQvTNb_ZK"
      },
      "source": [
        "# OUT\n",
        "UNSAT"
      ],
      "execution_count": null,
      "outputs": []
    },
    {
      "cell_type": "markdown",
      "metadata": {
        "id": "sP76TuKQb_8D"
      },
      "source": [
        "Como a negação da condição é UNSATISFIABLE, concluimos que a afirmação para todos os casos é verdadeira."
      ]
    },
    {
      "cell_type": "markdown",
      "metadata": {
        "id": "pY_M71bVQWzK"
      },
      "source": [
        "<br>\n",
        "\n",
        "**(d)** Os sócios casados têm todos bigode?\n",
        "\n",
        "**Fórmula Proposicional:** 2 -> 1\n",
        "\n",
        "**Fórmula CNF:** ~2 v 1"
      ]
    },
    {
      "cell_type": "code",
      "metadata": {
        "id": "4tQIzX9pclZd"
      },
      "source": [
        "# tp1.cnf\n",
        "p cnf 5 8\n",
        "-1 2 0\n",
        "4 5 0\n",
        "-2 -3 0\n",
        "-3 4 0\n",
        "-4 3 0\n",
        "1 -5 0\n",
        "-4 1 0\n",
        "-2 1 0"
      ],
      "execution_count": null,
      "outputs": []
    },
    {
      "cell_type": "code",
      "metadata": {
        "id": "WYjn1SIceDUj"
      },
      "source": [
        "minisat tp1.cnf OUT"
      ],
      "execution_count": null,
      "outputs": []
    },
    {
      "cell_type": "code",
      "metadata": {
        "id": "DUuKaWhSclM7"
      },
      "source": [
        "# OUT\n",
        "SAT\n",
        "1 2 -3 -4 5 0"
      ],
      "execution_count": null,
      "outputs": []
    },
    {
      "cell_type": "markdown",
      "metadata": {
        "id": "TTo-CAwcclyt"
      },
      "source": [
        "Apesar de encontrarmos uma solução que satisfaz a condição, isto apenas nos garante que um sócio casado tem bigode.\n",
        "\n",
        "**Negação:** 2 ^ ~1"
      ]
    },
    {
      "cell_type": "code",
      "metadata": {
        "id": "DinBcW7sRCo3"
      },
      "source": [
        "# tp1.cnf\n",
        "p cnf 5 9\n",
        "-1 2 0\n",
        "4 5 0\n",
        "-2 -3 0\n",
        "-3 4 0\n",
        "-4 3 0\n",
        "1 -5 0\n",
        "-4 1 0\n",
        "2 0\n",
        "-1 0"
      ],
      "execution_count": null,
      "outputs": []
    },
    {
      "cell_type": "code",
      "metadata": {
        "id": "deiq_wNeeEAL"
      },
      "source": [
        "minisat tp1.cnf OUT"
      ],
      "execution_count": null,
      "outputs": []
    },
    {
      "cell_type": "code",
      "metadata": {
        "id": "3StxQ8cvRBuf"
      },
      "source": [
        "# OUT\n",
        "UNSAT"
      ],
      "execution_count": null,
      "outputs": []
    },
    {
      "cell_type": "markdown",
      "metadata": {
        "id": "Bx6K3ag4RKpw"
      },
      "source": [
        "Como a negação da condição é UNSATISFIABLE, concluimos que a afirmação para todos os casos é verdadeira."
      ]
    },
    {
      "cell_type": "markdown",
      "metadata": {
        "id": "_FR-S-LiQVQd"
      },
      "source": [
        "<br>\n",
        "\n",
        "**(e)** A afirmação “Ao domingo nunca há sócios a assistir aos jogos.” é correta?\n",
        "\n",
        "**Fórmula CNF:** ~ 3"
      ]
    },
    {
      "cell_type": "code",
      "metadata": {
        "id": "-6OaB4u0S6tL"
      },
      "source": [
        "# tp1.cnf\n",
        "p cnf 5 8\n",
        "-1 2 0\n",
        "4 5 0\n",
        "-2 -3 0\n",
        "-3 4 0\n",
        "-4 3 0\n",
        "1 -5 0\n",
        "-4 1 0\n",
        "-3 0"
      ],
      "execution_count": null,
      "outputs": []
    },
    {
      "cell_type": "code",
      "metadata": {
        "id": "7ag02BgweE5E"
      },
      "source": [
        "minisat tp1.cnf OUT"
      ],
      "execution_count": null,
      "outputs": []
    },
    {
      "cell_type": "code",
      "metadata": {
        "id": "Qi6WiPLYS6gW"
      },
      "source": [
        "# OUT\n",
        "SAT\n",
        "1 2 -3 -4 5 0"
      ],
      "execution_count": null,
      "outputs": []
    },
    {
      "cell_type": "markdown",
      "metadata": {
        "id": "7I8HjLCMS7GL"
      },
      "source": [
        "Apesar de encontrarmos uma solução que satisfaz a condição, isto apenas nos garante que ao domingo não há um sócio a assistir aos jogos.\n",
        "\n",
        "**Negação:** 3"
      ]
    },
    {
      "cell_type": "code",
      "metadata": {
        "id": "nBumQt4SdAZF"
      },
      "source": [
        "# tp1.cnf\n",
        "p cnf 5 8\n",
        "-1 2 0\n",
        "4 5 0\n",
        "-2 -3 0\n",
        "-3 4 0\n",
        "-4 3 0\n",
        "1 -5 0\n",
        "-4 1 0\n",
        "3 0"
      ],
      "execution_count": null,
      "outputs": []
    },
    {
      "cell_type": "code",
      "metadata": {
        "id": "NVvkJ-ufeFe8"
      },
      "source": [
        "minisat tp1.cnf OUT"
      ],
      "execution_count": null,
      "outputs": []
    },
    {
      "cell_type": "code",
      "metadata": {
        "id": "q9sanYowdAOk"
      },
      "source": [
        "# OUT\n",
        "UNSAT"
      ],
      "execution_count": null,
      "outputs": []
    },
    {
      "cell_type": "markdown",
      "metadata": {
        "id": "Fy7utPuZdAzY"
      },
      "source": [
        "Como a negação da condição é UNSATISFIABLE, concluimos que a afirmação para todos os casos é verdadeira."
      ]
    }
  ]
}